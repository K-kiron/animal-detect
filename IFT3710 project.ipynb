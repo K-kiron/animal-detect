{
 "cells": [
  {
   "cell_type": "markdown",
   "id": "c4d60b6b",
   "metadata": {},
   "source": [
    "Lien de téléchargement des données: https://lila.science/datasets/caltech-camera-traps                                           \n",
    "On a au total 63025 images dans le fichier:cct_image. L'information sur les labels sont stockés dans caltech_bboxes_20200316.json. Ex. ''id :8'' est chien; category_id de image:5913652b-23d2-11e8-a6a3-ec086b02610b est 8. Alors, label de image 5913652b-23d2-11e8-a6a3-ec086b02610b.jpg est chien/8.                               "
   ]
  },
  {
   "cell_type": "markdown",
   "id": "174224ee",
   "metadata": {},
   "source": [
    "## Note: Pour utiliser open_cv, il faut la version de python est 3.7 ##"
   ]
  },
  {
   "cell_type": "code",
   "execution_count": 1,
   "id": "f4d23f77",
   "metadata": {},
   "outputs": [
    {
     "ename": "ModuleNotFoundError",
     "evalue": "No module named 'torch'",
     "output_type": "error",
     "traceback": [
      "\u001b[1;31m---------------------------------------------------------------------------\u001b[0m",
      "\u001b[1;31mModuleNotFoundError\u001b[0m                       Traceback (most recent call last)",
      "Cell \u001b[1;32mIn[1], line 4\u001b[0m\n\u001b[0;32m      2\u001b[0m \u001b[39mimport\u001b[39;00m \u001b[39mjson\u001b[39;00m\n\u001b[0;32m      3\u001b[0m \u001b[39mimport\u001b[39;00m \u001b[39mos\u001b[39;00m\n\u001b[1;32m----> 4\u001b[0m \u001b[39mimport\u001b[39;00m \u001b[39mtorch\u001b[39;00m\n",
      "\u001b[1;31mModuleNotFoundError\u001b[0m: No module named 'torch'"
     ]
    }
   ],
   "source": [
    "import cv2\n",
    "import json\n",
    "import os\n",
    "import torch"
   ]
  },
  {
   "cell_type": "code",
   "execution_count": 11,
   "id": "2e8e4d92",
   "metadata": {},
   "outputs": [],
   "source": [
    "img_path =\"C:/Users/1/Desktop/IFT3710project/cct_images/5913652b-23d2-11e8-a6a3-ec086b02610b.jpg\"\n",
    "img = cv2.imread(img_path) "
   ]
  },
  {
   "cell_type": "code",
   "execution_count": 19,
   "id": "2bdcb26c",
   "metadata": {},
   "outputs": [
    {
     "data": {
      "text/plain": [
       "-1"
      ]
     },
     "execution_count": 19,
     "metadata": {},
     "output_type": "execute_result"
    }
   ],
   "source": [
    "cv2.imshow('a frame',img)\n",
    "cv2.waitKey(0)"
   ]
  },
  {
   "cell_type": "markdown",
   "id": "d420cd3b",
   "metadata": {},
   "source": [
    "Je vais essayer d'écrire les codes pour donner les labels des images."
   ]
  },
  {
   "cell_type": "code",
   "execution_count": 2,
   "id": "9f2f55bf",
   "metadata": {},
   "outputs": [],
   "source": [
    "with open('caltech_bboxes_20200316.json','r') as f:\n",
    "    img_info = json.load(f)"
   ]
  },
  {
   "cell_type": "code",
   "execution_count": 9,
   "id": "7fa6ca1c",
   "metadata": {},
   "outputs": [],
   "source": [
    "cat = img_info['categories']"
   ]
  },
  {
   "cell_type": "code",
   "execution_count": 8,
   "id": "3f317423",
   "metadata": {},
   "outputs": [],
   "source": [
    "anno = img_info['annotations']"
   ]
  },
  {
   "cell_type": "code",
   "execution_count": 35,
   "id": "565fc68e",
   "metadata": {},
   "outputs": [],
   "source": [
    "#dictionnaire qui stocker les informations dans annotations\n",
    "dict_info ={}"
   ]
  },
  {
   "cell_type": "code",
   "execution_count": 36,
   "id": "b997e574",
   "metadata": {},
   "outputs": [],
   "source": [
    "for i in range(0,len(anno)):\n",
    "    img_id = anno[i]['image_id'] +'.jpg'\n",
    "    dict_info[img_id]  = anno[i]['category_id']"
   ]
  },
  {
   "cell_type": "code",
   "execution_count": 18,
   "id": "7338d2d2",
   "metadata": {},
   "outputs": [],
   "source": [
    "imgs = os.listdir(\"C:/Users/1/Desktop/IFT3710project/cct_images\")"
   ]
  },
  {
   "cell_type": "markdown",
   "id": "aefe0b03",
   "metadata": {},
   "source": [
    "### Sélectionner les images satisfont: images only have one species label or are empty. ###"
   ]
  },
  {
   "cell_type": "code",
   "execution_count": 51,
   "id": "5dbfe96d",
   "metadata": {},
   "outputs": [],
   "source": [
    "img_cor= []\n",
    "labels =[]\n",
    "for img in imgs:\n",
    "    if img in dict_info.keys():\n",
    "        img_cor.append(img)\n",
    "        labels.append(dict_info[img])"
   ]
  },
  {
   "cell_type": "code",
   "execution_count": null,
   "id": "78a265ed",
   "metadata": {},
   "outputs": [],
   "source": []
  }
 ],
 "metadata": {
  "kernelspec": {
   "display_name": "Python 3 (ipykernel)",
   "language": "python",
   "name": "python3"
  },
  "language_info": {
   "codemirror_mode": {
    "name": "ipython",
    "version": 3
   },
   "file_extension": ".py",
   "mimetype": "text/x-python",
   "name": "python",
   "nbconvert_exporter": "python",
   "pygments_lexer": "ipython3",
   "version": "3.11.2"
  }
 },
 "nbformat": 4,
 "nbformat_minor": 5
}
